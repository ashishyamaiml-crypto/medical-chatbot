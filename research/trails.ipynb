{
 "cells": [
  {
   "cell_type": "code",
   "execution_count": 2,
   "id": "f47df363",
   "metadata": {},
   "outputs": [],
   "source": [
    "from langchain.document_loaders import PyPDFLoader, DirectoryLoader\n",
    "from langchain.text_splitter import RecursiveCharacterTextSplitter"
   ]
  },
  {
   "cell_type": "code",
   "execution_count": 3,
   "id": "ab0c8dbc",
   "metadata": {},
   "outputs": [],
   "source": [
    "#Extract text from PDF files\n",
    "def load_pdf_files(file_paths):\n",
    "    loader = DirectoryLoader(\n",
    "        file_paths,\n",
    "        glob=\"*.pdf\",\n",
    "        loader_cls=PyPDFLoader\n",
    "    )\n",
    "    documents = loader.load()\n",
    "    return documents"
   ]
  },
  {
   "cell_type": "code",
   "execution_count": 10,
   "id": "90885a36",
   "metadata": {},
   "outputs": [
    {
     "data": {
      "text/plain": [
       "637"
      ]
     },
     "execution_count": 10,
     "metadata": {},
     "output_type": "execute_result"
    }
   ],
   "source": [
    "extracted_data = load_pdf_files(\"../data/\")\n",
    "len(extracted_data)   "
   ]
  },
  {
   "cell_type": "code",
   "execution_count": 12,
   "id": "68889542",
   "metadata": {},
   "outputs": [
    {
     "data": {
      "text/plain": [
       "637"
      ]
     },
     "execution_count": 12,
     "metadata": {},
     "output_type": "execute_result"
    }
   ],
   "source": [
    "# Filter to minimal docs\n",
    "from typing import List\n",
    "from langchain.schema import Document\n",
    "\n",
    "def filter_to_minimal_docs(docs : List[Document]) -> List[Document]:\n",
    "    minimal_docs : List[Document] = []\n",
    "    for doc in docs:\n",
    "        minimal_docs.append(\n",
    "            Document(page_content=doc.page_content, \n",
    "                     metadata={\"source\": doc.metadata[\"source\"]} )\n",
    "        )\n",
    "    return minimal_docs\n",
    "minimal_docs = filter_to_minimal_docs(extracted_data)\n",
    "len(minimal_docs)"
   ]
  },
  {
   "cell_type": "code",
   "execution_count": 13,
   "id": "98a5ec7b",
   "metadata": {},
   "outputs": [
    {
     "data": {
      "text/plain": [
       "5961"
      ]
     },
     "execution_count": 13,
     "metadata": {},
     "output_type": "execute_result"
    }
   ],
   "source": [
    "#Split the documents into smaller chunks\n",
    "def text_split(minimal_docs):\n",
    "    text_splitter = RecursiveCharacterTextSplitter(\n",
    "        chunk_size = 500,\n",
    "        chunk_overlap = 50\n",
    "    )\n",
    "    text_chunks = text_splitter.split_documents(minimal_docs)\n",
    "    return text_chunks\n",
    "\n",
    "text_chunks = text_split(minimal_docs)\n",
    "len(text_chunks)"
   ]
  },
  {
   "cell_type": "code",
   "execution_count": 18,
   "id": "769c4060",
   "metadata": {},
   "outputs": [],
   "source": [
    "# Embedding model\n",
    "from langchain.embeddings import HuggingFaceEmbeddings\n",
    "\n",
    "def download_embedding_model():\n",
    "    model_name = 'sentence-transformers/all-MiniLM-L6-v2'\n",
    "    embeddings = HuggingFaceEmbeddings(model_name=model_name)\n",
    "    return embeddings\n",
    "\n",
    "embeddings = download_embedding_model()\n"
   ]
  },
  {
   "cell_type": "code",
   "execution_count": 21,
   "id": "e110d070",
   "metadata": {},
   "outputs": [
    {
     "data": {
      "text/plain": [
       "384"
      ]
     },
     "execution_count": 21,
     "metadata": {},
     "output_type": "execute_result"
    }
   ],
   "source": [
    "vector = embeddings.embed_query(\"My name is Ashish\")\n",
    "len(vector)"
   ]
  },
  {
   "cell_type": "code",
   "execution_count": 22,
   "id": "cfdcdaf5",
   "metadata": {},
   "outputs": [],
   "source": [
    "from dotenv import load_dotenv\n",
    "import os\n",
    "load_dotenv()\n",
    "\n",
    "PINECONE_API_KEY = os.environ.get(\"PINECONE_API_KEY\")\n",
    "OPENAI_API_KEY = os.environ.get(\"OPENAI_API_KEY\")\n",
    "\n",
    "# Set env variables\n",
    "os.environ[\"PINECONE_API_KEY\"] = PINECONE_API_KEY\n",
    "os.environ[\"OPENAI_API_KEY\"] = OPENAI_API_KEY\n",
    "\n",
    "from pinecone import Pinecone\n",
    "pincone_api_key = PINECONE_API_KEY\n",
    "pc = Pinecone(api_key=pincone_api_key)"
   ]
  },
  {
   "cell_type": "code",
   "execution_count": 27,
   "id": "c59687af",
   "metadata": {},
   "outputs": [],
   "source": [
    "# Create Pinecone index\n",
    "from pinecone import ServerlessSpec\n",
    "index_name = \"medical-chatbot\"\n",
    "\n",
    "if not pc.has_index(index_name):\n",
    "    pc.create_index(\n",
    "        name = index_name,\n",
    "        dimension = 384,\n",
    "        metric = \"cosine\",\n",
    "        spec = ServerlessSpec(cloud=\"aws\", region=\"us-east-1\")\n",
    "    )\n",
    "\n",
    "index = pc.Index(index_name)\n"
   ]
  },
  {
   "cell_type": "code",
   "execution_count": 29,
   "id": "73599b1c",
   "metadata": {},
   "outputs": [],
   "source": [
    "#Create Pinecone vector store from documents\n",
    "from langchain_pinecone import PineconeVectorStore\n",
    "\n",
    "docsearch = PineconeVectorStore.from_documents(\n",
    "    documents = text_chunks,\n",
    "    embedding = embeddings,\n",
    "    index_name = index_name\n",
    ")"
   ]
  },
  {
   "cell_type": "code",
   "execution_count": 30,
   "id": "31b7a45b",
   "metadata": {},
   "outputs": [
    {
     "data": {
      "text/plain": [
       "['208a2829-f499-4333-bbf5-10c582d49f32']"
      ]
     },
     "execution_count": 30,
     "metadata": {},
     "output_type": "execute_result"
    }
   ],
   "source": [
    "# Load to existing Pinecone index\n",
    "from langchain_pinecone import PineconeVectorStore\n",
    "docsearch = PineconeVectorStore(\n",
    "    embedding=embeddings,\n",
    "    index_name=index_name\n",
    ")\n",
    "\n",
    "doc_to_load = Document(\n",
    "    page_content=\"This is Ashish a Data Scientist.\",\n",
    "    metadata={\"source\": \"MyData\"}\n",
    ")\n",
    "\n",
    "# Add more data into existing Pinecone index\n",
    "docsearch.add_documents(documents=[doc_to_load])"
   ]
  },
  {
   "cell_type": "code",
   "execution_count": 32,
   "id": "a4ca953d",
   "metadata": {},
   "outputs": [
    {
     "data": {
      "text/plain": [
       "[Document(id='208a2829-f499-4333-bbf5-10c582d49f32', metadata={'source': 'MyData'}, page_content='This is Ashish a Data Scientist.'),\n",
       " Document(id='57fc651c-9c91-40da-8e3d-db477ef26c80', metadata={'source': '..\\\\data\\\\Medical_book.pdf'}, page_content='Francis Fishback. Philadelphia: Lippincott, 1996.\\nGALE ENCYCLOPEDIA OF MEDICINE 2 557\\nBone x rays\\nGEM -0433 to 0624 - B  10/22/03 6:08 PM  Page 557'),\n",
       " Document(id='7af3731b-2808-4a75-976d-8f6dca6eac28', metadata={'source': '..\\\\data\\\\Medical_book.pdf'}, page_content='was injected.\\nWheezing —A whistling or musical sound caused\\nby tightening of the air passages inside the patient’s\\nchest.\\nNational Institute of Allergy and Infectious Disease. Building\\n31, Room 7A-50, 31 Center Drive MSC 2520, Bethesda,\\nMD 20892-2520. (301) 496-5717. <http://www.niaid.nih.\\ngov/default.htm>.\\nRebecca J. Frey\\nAllergic purpura\\nDefinition\\nAllergic purpura (AP) is an allergic reaction of\\nunknown origin causing red patches on the skin and other'),\n",
       " Document(id='a1cacfb7-42b0-4939-b8fe-f88065d5575b', metadata={'source': '..\\\\data\\\\Medical_book.pdf'}, page_content='tively or by altering the skin of the scalp. One example\\nis thyroid disorders. Hyperthyroidism (too much thy-\\nroid hormone) causes hair to become thin and fine.\\nGALE ENCYCLOPEDIA OF MEDICINE 2 125\\nAlopecia\\nTop of balding male’s head.(Photograph by Kelly A. Quin.\\nReproduced by permission.)\\nGEM - 0001 to 0432 - A  10/22/03 1:42 PM  Page 125')]"
      ]
     },
     "execution_count": 32,
     "metadata": {},
     "output_type": "execute_result"
    }
   ],
   "source": [
    "# Docsearch as a retriever\n",
    "retriever = docsearch.as_retriever(\n",
    "    search_type=\"similarity\",\n",
    "    search_kwargs={\"k\":4}\n",
    ")\n",
    "\n",
    "retrived_docs = retriever.invoke(\"Who is Ashish?\")\n",
    "retrived_docs"
   ]
  },
  {
   "cell_type": "code",
   "execution_count": 34,
   "id": "2a775ad3",
   "metadata": {},
   "outputs": [],
   "source": [
    "# Load LLM model\n",
    "from langchain_openai import ChatOpenAI\n",
    "chatModel = ChatOpenAI(model=\"gpt-3.5-turbo\")"
   ]
  },
  {
   "cell_type": "code",
   "execution_count": 35,
   "id": "e5cf515f",
   "metadata": {},
   "outputs": [],
   "source": [
    "#Implement LLM chain for question answering\n",
    "from langchain.chains import create_retrieval_chain\n",
    "from langchain.chains.combine_documents import create_stuff_documents_chain\n",
    "from langchain_core.prompts import ChatPromptTemplate\n",
    "\n",
    "system_prompt = (\n",
    "    \"You are a helpful Medical assistant for question answering tasks\"\n",
    "    \"Use the following piece of retrieval context to answer the question. If you don't know the answer, say that you don't know.\"\n",
    "    \"Use three sentences maximum to answer the question and keep the answer concise.\"\n",
    "    \"\\n\\n\"\n",
    "    \"{context}\"\n",
    ")\n"
   ]
  },
  {
   "cell_type": "code",
   "execution_count": 38,
   "id": "19304892",
   "metadata": {},
   "outputs": [],
   "source": [
    "prompt = ChatPromptTemplate.from_messages([\n",
    "    (\"system\", system_prompt),\n",
    "    (\"user\", \"{input}\")\n",
    "])\n",
    "\n",
    "qa_chain = create_stuff_documents_chain(\n",
    "    chatModel,\n",
    "    prompt\n",
    ")\n",
    "\n",
    "rag_chain = create_retrieval_chain(\n",
    "    retriever,\n",
    "    qa_chain\n",
    ")\n",
    "\n"
   ]
  },
  {
   "cell_type": "code",
   "execution_count": 39,
   "id": "8e2ac872",
   "metadata": {},
   "outputs": [
    {
     "name": "stdout",
     "output_type": "stream",
     "text": [
      "High levels of triglycerides are often associated with diabetes, but they do not directly cause diabetes. Elevated triglyceride levels are a risk factor for developing atherosclerosis, which is a common complication of diabetes. However, the relationship between high triglycerides and diabetes is complex and involves multiple factors.\n"
     ]
    }
   ],
   "source": [
    "response = rag_chain.invoke({\"input\" : \"Is high triglycerides causes diabeties?\"})\n",
    "print(response[\"answer\"])"
   ]
  },
  {
   "cell_type": "code",
   "execution_count": null,
   "id": "d5695b3a",
   "metadata": {},
   "outputs": [],
   "source": []
  }
 ],
 "metadata": {
  "kernelspec": {
   "display_name": "medibot",
   "language": "python",
   "name": "python3"
  },
  "language_info": {
   "codemirror_mode": {
    "name": "ipython",
    "version": 3
   },
   "file_extension": ".py",
   "mimetype": "text/x-python",
   "name": "python",
   "nbconvert_exporter": "python",
   "pygments_lexer": "ipython3",
   "version": "3.10.18"
  }
 },
 "nbformat": 4,
 "nbformat_minor": 5
}
